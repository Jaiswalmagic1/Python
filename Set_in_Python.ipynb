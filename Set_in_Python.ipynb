{
  "nbformat": 4,
  "nbformat_minor": 0,
  "metadata": {
    "colab": {
      "provenance": []
    },
    "kernelspec": {
      "name": "python3",
      "display_name": "Python 3"
    },
    "language_info": {
      "name": "python"
    }
  },
  "cells": [
    {
      "cell_type": "markdown",
      "source": [],
      "metadata": {
        "id": "GxujTic_IQcr"
      }
    },
    {
      "cell_type": "markdown",
      "source": [
        "# **`Sets`**\n",
        "* Set is one of 4 built-in data types in Python used to store collections of data, the other 3 are List, Tuple, and Dictionary, all with different qualities and usage.\n",
        "* A set is a collection which is unordered, unchangeable*, and unindexed.\n",
        "* Unordered collection of elements (if you put some data in order inside  set it will discard order)\n",
        "    * It shorts elements by itself (see below example)\n",
        "* No duplicates only unique values\n",
        "    * Put duplicates in set it will auto remove them\n",
        "* Mutable can add, remove values\n",
        "* Set Theory operations are possible like Union,Intersection etc...\n",
        "    * `intersection` of 2 sets => set_1.intersection(set_2)\n",
        "    * `union` of 2 sets => set_1.union(set_2) .."
      ],
      "metadata": {
        "id": "-lsVmKbp_FCh"
      }
    },
    {
      "cell_type": "markdown",
      "source": [],
      "metadata": {
        "id": "A69ErFKyA0Eo"
      }
    },
    {
      "cell_type": "markdown",
      "source": [
        "# Create a Set"
      ],
      "metadata": {
        "id": "6V3ife7CBE15"
      }
    },
    {
      "cell_type": "code",
      "execution_count": null,
      "metadata": {
        "colab": {
          "base_uri": "https://localhost:8080/"
        },
        "id": "-hcta2UT_B3X",
        "outputId": "cdfc078a-d224-4834-dea7-296eb522a0cd"
      },
      "outputs": [
        {
          "output_type": "stream",
          "name": "stdout",
          "text": [
            "<class 'set'> {'apple'}\n",
            "<class 'dict'> {}\n",
            "<class 'set'> set()\n"
          ]
        }
      ],
      "source": [
        "# How to create a set ?\n",
        "# Set is created with curly brackets.\n",
        "\n",
        "set_ = {\"apple\", \"banana\", \"cherry\"}\n",
        "\n",
        "\n",
        "# Single item set\n",
        "set_1 = {\"apple\"}\n",
        "print(type(set_1), set_1)\n",
        "\n",
        "# Empty set\n",
        "set_2 = {}\n",
        "print(type(set_2), set_2)\n",
        "\n",
        "set_3 = set()\n",
        "print(type(set_3), set_3)\n"
      ]
    },
    {
      "cell_type": "code",
      "source": [
        "# Creating set from other data types\n",
        "\n",
        "# List\n",
        "list_1 = ['Curious Club', 11, 20, 2022]\n",
        "\n",
        "# Set constructor is used to create set from list\n",
        "set_from_list = set(list_1)\n",
        "print('This is a set created from list ',set_from_list)\n",
        "\n",
        "# in similar way a set can be constructed from tuple\n",
        "tuple_1 = ('Curious Club', 11, 20, 2022)\n",
        "set_from_tuple = set(tuple_1)\n",
        "print('This is a set created from tuple ',set_from_tuple)"
      ],
      "metadata": {
        "colab": {
          "base_uri": "https://localhost:8080/"
        },
        "id": "Ju1BpE6eCtwy",
        "outputId": "013b6339-ba92-4aee-8544-da645180f8df"
      },
      "execution_count": null,
      "outputs": [
        {
          "output_type": "stream",
          "name": "stdout",
          "text": [
            "This is a set created from list  {11, 20, 2022, 'Curious Club'}\n",
            "This is a set created from tuple  {11, 20, 2022, 'Curious Club'}\n"
          ]
        }
      ]
    },
    {
      "cell_type": "markdown",
      "source": [
        "# Unordered"
      ],
      "metadata": {
        "id": "qoIsgZeb_ECv"
      }
    },
    {
      "cell_type": "markdown",
      "source": [
        "* Unordered means that the items in a set do not have a defined order.\n",
        "* Set items can appear in a different order every time you use them, and cannot be referred to by index or key."
      ],
      "metadata": {
        "id": "OiklOOkoBaQW"
      }
    },
    {
      "cell_type": "code",
      "source": [
        "# Set does not retain the order of element as entered, it will sort the data by itself.\n",
        "set_4 = {3, 4, 2, 1, 5, 6, 3, 5, 8, 9 }\n",
        "set_4"
      ],
      "metadata": {
        "colab": {
          "base_uri": "https://localhost:8080/"
        },
        "id": "3y5teb87Bhmt",
        "outputId": "18352244-7db2-4d34-b669-bd39988fc5e0"
      },
      "execution_count": null,
      "outputs": [
        {
          "output_type": "execute_result",
          "data": {
            "text/plain": [
              "{1, 2, 3, 4, 5, 6, 8, 9}"
            ]
          },
          "metadata": {},
          "execution_count": 5
        }
      ]
    },
    {
      "cell_type": "code",
      "source": [
        "# Sets being an unordered data type also means that we can not access, assign, or update element with indexing.\n",
        "\n",
        "# set_4[2] #TypeError: 'set' object is not subscriptable\n",
        "\n",
        "# set_4[2] = 0 #TypeError: 'set' object does not support item assignment"
      ],
      "metadata": {
        "id": "5qTeNh1ZEF8F"
      },
      "execution_count": null,
      "outputs": []
    },
    {
      "cell_type": "markdown",
      "source": [
        "# No duplicates"
      ],
      "metadata": {
        "id": "9p6YY9ViCQe7"
      }
    },
    {
      "cell_type": "markdown",
      "source": [
        "* Set does not allow duplicates and discards them"
      ],
      "metadata": {
        "id": "iuL77pGhCT4S"
      }
    },
    {
      "cell_type": "code",
      "source": [
        "set_5 = {12, 45, 67, 12, 67, 12}\n",
        "\n",
        "set_5"
      ],
      "metadata": {
        "colab": {
          "base_uri": "https://localhost:8080/"
        },
        "id": "wXgAbdt4CSvC",
        "outputId": "c3c429ad-aafc-4364-82fc-3dfce1b0de41"
      },
      "execution_count": null,
      "outputs": [
        {
          "output_type": "execute_result",
          "data": {
            "text/plain": [
              "{12, 45, 67}"
            ]
          },
          "metadata": {},
          "execution_count": 6
        }
      ]
    },
    {
      "cell_type": "markdown",
      "source": [
        "# Adding and Deleting in Set"
      ],
      "metadata": {
        "id": "k1k-GAL-FJCs"
      }
    },
    {
      "cell_type": "code",
      "source": [
        "# Because we can not add element in set with indexing so we will use the add method of set\n",
        "\n",
        "set_6 = {'Vishal', 'Curious', 'Club', 11, 20, 2022}\n",
        "\n",
        "set_6.add('Jaiswal')\n",
        "\n",
        "print('Jaiswal has been added here : ',set_6)\n",
        "\n",
        "# Adding some data store in a varibale\n",
        "variable = 'Jaiswal'\n",
        "\n",
        "set_6.add(variable)\n",
        "\n",
        "print('Jaiswal has been added here from a varibale: ',set_6)"
      ],
      "metadata": {
        "colab": {
          "base_uri": "https://localhost:8080/"
        },
        "id": "OZsiDhv9FRTm",
        "outputId": "ade843f9-e5d1-4594-e774-321476decf37"
      },
      "execution_count": null,
      "outputs": [
        {
          "output_type": "stream",
          "name": "stdout",
          "text": [
            "Jaiswal has been added here from a varibale:  {2022, 'Club', 11, 20, 'Jaiswal', 'Vishal', 'Curious'}\n"
          ]
        }
      ]
    },
    {
      "cell_type": "code",
      "source": [
        "# Using discard method to remove items from set\n",
        "\n",
        "# removing jaiswal from set_6\n",
        "set_6.discard('Jaiswal')\n",
        "print('Jaiswal has been removed here: ',set_6)\n",
        "\n",
        "# remocing jaiswal stored in a variable\n",
        "set_6.discard(variable)\n",
        "print('Jaiswal has been added here from a varibale: ',set_6)"
      ],
      "metadata": {
        "colab": {
          "base_uri": "https://localhost:8080/"
        },
        "id": "eax9bmMwF35r",
        "outputId": "d5041138-0fd7-4b65-e1ca-ea4754388653"
      },
      "execution_count": null,
      "outputs": [
        {
          "output_type": "stream",
          "name": "stdout",
          "text": [
            "Jaiswal has been added here from a varibale:  {2022, 'Club', 11, 20, 'Vishal', 'Curious'}\n"
          ]
        }
      ]
    },
    {
      "cell_type": "markdown",
      "source": [
        "# Set can store any data type"
      ],
      "metadata": {
        "id": "mZfm3RwdHMG8"
      }
    },
    {
      "cell_type": "code",
      "source": [
        "# Set can store all data types\n",
        "\n",
        "# Integer\n",
        "set_7 = {12, 23, 34, 45}\n",
        "print(set_7)\n",
        "\n",
        "# String\n",
        "set_8 = {'Curious', 'Club',}\n",
        "print(set_8)\n",
        "\n",
        "# Float\n",
        "set_9 = {23.34, 56.78}\n",
        "print(set_9)\n",
        "\n",
        "# Integer, String, Float\n",
        "set_10 = {'Join our club', 11, 20, 20.22}\n",
        "print(set_10)"
      ],
      "metadata": {
        "colab": {
          "base_uri": "https://localhost:8080/"
        },
        "id": "6VaLRsJZHRPN",
        "outputId": "28fd1d7f-703d-4405-9946-74f4b33fa637"
      },
      "execution_count": null,
      "outputs": [
        {
          "output_type": "stream",
          "name": "stdout",
          "text": [
            "{34, 12, 45, 23}\n",
            "{'Curious', 'Club'}\n",
            "{56.78, 23.34}\n",
            "{11, 20, 20.22, 'Join our club'}\n"
          ]
        }
      ]
    },
    {
      "cell_type": "markdown",
      "source": [
        "# Methods"
      ],
      "metadata": {
        "id": "ATBE0FduLty7"
      }
    },
    {
      "cell_type": "code",
      "source": [
        "# add()\tAdds an element to the set\n",
        "'''\n",
        "we have covered this method above in this notebook \n",
        "'''"
      ],
      "metadata": {
        "id": "sorMsNxpLtNN"
      },
      "execution_count": null,
      "outputs": []
    },
    {
      "cell_type": "code",
      "source": [
        "# clear()\tRemoves all the elements from the set\n",
        "set_6 # Showing elements\n",
        "\n",
        "set_6.clear() # clearing the set\n",
        "\n",
        "set_6 # This is a emply set now\n"
      ],
      "metadata": {
        "colab": {
          "base_uri": "https://localhost:8080/"
        },
        "id": "dJFLy3tuMECU",
        "outputId": "c2d83e64-562d-4663-a3e7-7e66f625f4d6"
      },
      "execution_count": 26,
      "outputs": [
        {
          "output_type": "execute_result",
          "data": {
            "text/plain": [
              "set()"
            ]
          },
          "metadata": {},
          "execution_count": 26
        }
      ]
    },
    {
      "cell_type": "code",
      "source": [
        "# copy()\tReturns a copy of the set\n",
        "set_7 # Showing the elements\n",
        "\n",
        "x = set_7.copy() # copying the elements in a new variable x\n",
        "\n",
        "print(set_7)\n",
        "print(x)"
      ],
      "metadata": {
        "colab": {
          "base_uri": "https://localhost:8080/"
        },
        "id": "l4syF3kRMa0l",
        "outputId": "1a3b2025-a176-4a6d-e98f-c77986ca49d3"
      },
      "execution_count": 27,
      "outputs": [
        {
          "output_type": "stream",
          "name": "stdout",
          "text": [
            "{34, 12, 45, 23}\n",
            "{34, 12, 45, 23}\n"
          ]
        }
      ]
    },
    {
      "cell_type": "code",
      "source": [
        "# difference()\tReturns a set containing the difference between two or more sets\n",
        "\n",
        "x = {\"apple\", \"banana\", \"cherry\"}\n",
        "y = {\"google\", \"microsoft\", \"apple\"}\n",
        "\n",
        "z = x.difference(y)\n",
        "\n",
        "print('x does not have ',z)"
      ],
      "metadata": {
        "colab": {
          "base_uri": "https://localhost:8080/"
        },
        "id": "GX04wpmDahCh",
        "outputId": "d287ebd6-1818-460b-8db8-ac8ac69bd3d5"
      },
      "execution_count": 29,
      "outputs": [
        {
          "output_type": "stream",
          "name": "stdout",
          "text": [
            "x does not have  {'cherry', 'banana'}\n"
          ]
        }
      ]
    },
    {
      "cell_type": "code",
      "source": [
        "# difference_update()\tRemoves the items in this set that are also included in another, specified set\n",
        "\n",
        "x = {\"apple\", \"banana\", \"cherry\"}\n",
        "y = {\"google\", \"microsoft\", \"apple\"}\n",
        "print(x)\n",
        "\n",
        "x.difference_update(y)\n",
        "\n",
        "print(x)\n",
        "print(y)\n"
      ],
      "metadata": {
        "colab": {
          "base_uri": "https://localhost:8080/"
        },
        "id": "j3yg0vula7vb",
        "outputId": "1dab7992-7d25-441b-f3c6-908126afd449"
      },
      "execution_count": 32,
      "outputs": [
        {
          "output_type": "stream",
          "name": "stdout",
          "text": [
            "{'apple', 'cherry', 'banana'}\n",
            "{'cherry', 'banana'}\n",
            "{'apple', 'google', 'microsoft'}\n"
          ]
        }
      ]
    },
    {
      "cell_type": "code",
      "source": [
        "# discard()\tRemove the specified item\n",
        "'''\n",
        "We have already covered this above in this notebook\n",
        "'''"
      ],
      "metadata": {
        "id": "5R_32abJbex2"
      },
      "execution_count": null,
      "outputs": []
    },
    {
      "cell_type": "code",
      "source": [
        "# intersection()\tReturns a set, that is the intersection of two or more sets\n",
        "\n",
        "x = {\"apple\", \"banana\", \"cherry\"}\n",
        "y = {\"google\", \"microsoft\", \"apple\"}\n",
        "\n",
        "z = x.intersection(y)\n",
        "\n",
        "print('Common element in x and y : ',z)"
      ],
      "metadata": {
        "colab": {
          "base_uri": "https://localhost:8080/"
        },
        "id": "1g_jatYObnRR",
        "outputId": "c321ab6a-d218-49b3-9048-17540a38019f"
      },
      "execution_count": 35,
      "outputs": [
        {
          "output_type": "stream",
          "name": "stdout",
          "text": [
            "Common element in x and y  {'apple'}\n"
          ]
        }
      ]
    },
    {
      "cell_type": "code",
      "source": [
        "# intersection_update()\tRemoves the items in this set that are not present in other, specified set(s)\n",
        "\n",
        "x = {\"apple\", \"banana\", \"cherry\"}\n",
        "y = {\"google\", \"microsoft\", \"apple\"}\n",
        "\n",
        "x.intersection_update(y)\n",
        "\n",
        "print('Banana and Cherry were not in y hence they have been removed and x has only one element which is : ',x)"
      ],
      "metadata": {
        "colab": {
          "base_uri": "https://localhost:8080/"
        },
        "id": "4IHaFzLvb-jt",
        "outputId": "1ff57b7f-b6bb-4058-a19d-075e83a1ca4e"
      },
      "execution_count": 37,
      "outputs": [
        {
          "output_type": "stream",
          "name": "stdout",
          "text": [
            "Banana and Cherry were not in y hence they have been removed and x has only one element which is :  {'apple'}\n"
          ]
        }
      ]
    },
    {
      "cell_type": "code",
      "source": [
        "# isdisjoint()\tReturns whether two sets have a intersection or not\n",
        "x = {\"apple\", \"banana\", \"cherry\"}\n",
        "y = {\"google\", \"microsoft\", \"facebook\"}\n",
        "\n",
        "z = x.isdisjoint(y)\n",
        "\n",
        "# Return True if no items in set x is present in set y:\n",
        "print(z)"
      ],
      "metadata": {
        "colab": {
          "base_uri": "https://localhost:8080/"
        },
        "id": "NNkL0lX7dm80",
        "outputId": "c38ac9b4-293a-4676-d35e-f14f3f4c1d99"
      },
      "execution_count": 38,
      "outputs": [
        {
          "output_type": "stream",
          "name": "stdout",
          "text": [
            "True\n"
          ]
        }
      ]
    },
    {
      "cell_type": "code",
      "source": [
        "# issubset()\tReturns whether another set contains this set or not\n",
        "\n",
        "x = {\"a\", \"b\", \"c\"}\n",
        "y = {\"f\", \"e\", \"d\", \"c\", \"b\", \"a\"}\n",
        "\n",
        "z = x.issubset(y)\n",
        "\n",
        "# Return True if all items in set x are present in set y:\n",
        "print(z)"
      ],
      "metadata": {
        "colab": {
          "base_uri": "https://localhost:8080/"
        },
        "id": "GAapY_WqeGBn",
        "outputId": "77119678-c8ce-40d6-935e-cedb28da32c4"
      },
      "execution_count": 41,
      "outputs": [
        {
          "output_type": "stream",
          "name": "stdout",
          "text": [
            "True\n"
          ]
        }
      ]
    },
    {
      "cell_type": "code",
      "source": [
        "# pop()\tRemoves an element from the set\n",
        "set_9 = {1, 2, 3, 4, 5, 6, }\n",
        "print(set_9)\n",
        "\n",
        "print(set_9.pop()) # Returns the element bring removed\n",
        "\n",
        "set_9\n"
      ],
      "metadata": {
        "colab": {
          "base_uri": "https://localhost:8080/"
        },
        "id": "dBW7zDeleeVl",
        "outputId": "8945e948-30f6-46e5-a909-c1778b83323c"
      },
      "execution_count": 47,
      "outputs": [
        {
          "output_type": "stream",
          "name": "stdout",
          "text": [
            "{1, 2, 3, 4, 5, 6}\n",
            "1\n"
          ]
        },
        {
          "output_type": "execute_result",
          "data": {
            "text/plain": [
              "{2, 3, 4, 5, 6}"
            ]
          },
          "metadata": {},
          "execution_count": 47
        }
      ]
    },
    {
      "cell_type": "code",
      "source": [
        "# remove()\tRemoves the specified element\n",
        "\n",
        "print(set_9)\n",
        "\n",
        "set_9.remove(5)\n",
        "\n",
        "set_9"
      ],
      "metadata": {
        "colab": {
          "base_uri": "https://localhost:8080/"
        },
        "id": "s8iMt9n0e9dv",
        "outputId": "44ae37be-a0cd-4e6c-8977-0d8361015de2"
      },
      "execution_count": 49,
      "outputs": [
        {
          "output_type": "stream",
          "name": "stdout",
          "text": [
            "{2, 3, 4, 5, 6}\n"
          ]
        },
        {
          "output_type": "execute_result",
          "data": {
            "text/plain": [
              "{2, 3, 4, 6}"
            ]
          },
          "metadata": {},
          "execution_count": 49
        }
      ]
    },
    {
      "cell_type": "code",
      "source": [
        "# symmetric_difference()\tReturns a set with the symmetric differences of two sets\n",
        "\n",
        "print(set_1, set_4)\n",
        "\n",
        "set_11 = set_1.symmetric_difference(set_4)\n",
        "print()\n",
        "print(set_11)"
      ],
      "metadata": {
        "colab": {
          "base_uri": "https://localhost:8080/"
        },
        "id": "orzYnhrBfQaa",
        "outputId": "501a8b85-14d6-4920-84b6-063f3791f103"
      },
      "execution_count": 54,
      "outputs": [
        {
          "output_type": "stream",
          "name": "stdout",
          "text": [
            "{'apple'} {1, 2, 3, 4, 5, 6, 8, 9}\n",
            "\n",
            "{1, 2, 3, 4, 5, 6, 8, 9, 'apple'}\n"
          ]
        }
      ]
    },
    {
      "cell_type": "code",
      "source": [
        "# symmetric_difference_update()\tinserts the symmetric differences from this set and another\n",
        "\n",
        "print(set_1, set_4)\n",
        "\n",
        "set_1.symmetric_difference_update(set_4)\n",
        "\n",
        "set_1"
      ],
      "metadata": {
        "colab": {
          "base_uri": "https://localhost:8080/"
        },
        "id": "ObaoLlgxf3tn",
        "outputId": "7f146751-5c3c-4c58-c019-a51db1aa526c"
      },
      "execution_count": 55,
      "outputs": [
        {
          "output_type": "stream",
          "name": "stdout",
          "text": [
            "{'apple'} {1, 2, 3, 4, 5, 6, 8, 9}\n"
          ]
        },
        {
          "output_type": "execute_result",
          "data": {
            "text/plain": [
              "{1, 2, 3, 4, 5, 6, 8, 9, 'apple'}"
            ]
          },
          "metadata": {},
          "execution_count": 55
        }
      ]
    },
    {
      "cell_type": "code",
      "source": [
        "# union()\tReturn a set containing the union of sets\n",
        "set_1 = {1, 2, 3, 4, 5, 6, 8, 9,}\n",
        "set_4 = {'apple'}\n",
        "\n",
        "print(set_1)\n",
        "print(set_4)\n",
        "\n",
        "set_12 = set_1.union(set_4)\n",
        "\n",
        "print(set_12)"
      ],
      "metadata": {
        "colab": {
          "base_uri": "https://localhost:8080/"
        },
        "id": "HJC9eJILgWxJ",
        "outputId": "39c65df6-d4b8-4f65-b530-cbadc450c3cb"
      },
      "execution_count": 64,
      "outputs": [
        {
          "output_type": "stream",
          "name": "stdout",
          "text": [
            "{1, 2, 3, 4, 5, 6, 8, 9}\n",
            "{'apple'}\n",
            "{1, 2, 3, 4, 5, 6, 8, 9, 'apple'}\n"
          ]
        }
      ]
    },
    {
      "cell_type": "code",
      "source": [
        "# update()\tUpdate the set with another set, or any other iterable\n",
        "\n",
        "set_1 = {1, 2, 3, 4, 5, 6, 8, 9,}\n",
        "set_4 = {'apple'}\n",
        "\n",
        "set_1.update(set_4)\n",
        "\n",
        "set_1\n",
        "\n",
        "# Adding list to set_1\n",
        "list_1\n",
        "\n",
        "set_1.update(list_1)\n",
        "\n",
        "set_1\n"
      ],
      "metadata": {
        "colab": {
          "base_uri": "https://localhost:8080/"
        },
        "id": "gHPDTXH9hMZE",
        "outputId": "b8994939-df8a-4988-c59d-8c8513ea4c4b"
      },
      "execution_count": 69,
      "outputs": [
        {
          "output_type": "execute_result",
          "data": {
            "text/plain": [
              "{1, 11, 2, 20, 2022, 3, 4, 5, 6, 8, 9, 'Curious Club', 'apple'}"
            ]
          },
          "metadata": {},
          "execution_count": 69
        }
      ]
    }
  ]
}