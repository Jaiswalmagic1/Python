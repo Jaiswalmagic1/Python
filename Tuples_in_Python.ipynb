{
  "cells": [
    {
      "cell_type": "markdown",
      "source": [
        "# **`Tuple`** <br>\n",
        "\n",
        "Benefit of using tuples:<br>\n",
        "* Faster then list\n",
        "* Tuple is ordered\n",
        "* Allows duplicate\n",
        "* Can carry any data type\n",
        "* Provide security over updation => once created cannot be modefyied like list\n",
        "* Can be used as key for dictionarie\n",
        "* We generally use tuple for heterogeneous(different) datatypes and list for homogeneous (similar) datatypes\n",
        "* Since tuples are immutable, iterating through tuple is faster than with list. So there is a slight performance boost\n",
        "* Tuples that contain immutable elements can be used as a key for a dictionary. With lists, this is not possible\n",
        "* If you have data that doesn't change, implementing it as tuple will guarantee that it remains write-protected\n",
        "* We cannot edit/update or delete elements from the tuple"
      ],
      "metadata": {
        "id": "eR4kF1AA9r31"
      }
    },
    {
      "cell_type": "code",
      "source": [
        "# Creating a tupple\n",
        "\n",
        "tuple_1 = (2, 3, 4, 5, 6, 7)\n",
        "\n",
        "# Tuple with 1 element \n",
        "# tuple_1 = (2,)\n",
        "\n",
        "print(type(tuple_1))\n",
        "\n",
        "# tuple_1 = (2,)"
      ],
      "metadata": {
        "colab": {
          "base_uri": "https://localhost:8080/"
        },
        "id": "bSV5DOSg91Sq",
        "outputId": "19749173-957e-4dcb-fe39-69fb23c935e5"
      },
      "execution_count": 4,
      "outputs": [
        {
          "output_type": "stream",
          "name": "stdout",
          "text": [
            "<class 'tuple'>\n"
          ]
        }
      ]
    },
    {
      "cell_type": "code",
      "source": [
        "# list to tuple\n",
        "list1 = [2, 3, 4, 5, 6, 7,]\n",
        "\n",
        "tuple2 = tuple(list1)\n",
        "\n",
        "print(type(tuple2), tuple2)"
      ],
      "metadata": {
        "colab": {
          "base_uri": "https://localhost:8080/"
        },
        "id": "9eKz4g7J_AcP",
        "outputId": "c56375b0-4fe4-4c55-d175-5d11991d8fbb"
      },
      "execution_count": 5,
      "outputs": [
        {
          "output_type": "stream",
          "name": "stdout",
          "text": [
            "<class 'tuple'> (2, 3, 4, 5, 6, 7)\n"
          ]
        }
      ]
    },
    {
      "cell_type": "code",
      "source": [
        "# Accessing elements on tuple\n",
        "tuple2 = (2, 3, 4, 5, 6, 7, )\n",
        "\n",
        "tuple2[1]"
      ],
      "metadata": {
        "colab": {
          "base_uri": "https://localhost:8080/"
        },
        "id": "ge1a-6KO-PrL",
        "outputId": "900b642f-e792-425a-9dc9-f6834c8233e4"
      },
      "execution_count": 6,
      "outputs": [
        {
          "output_type": "execute_result",
          "data": {
            "text/plain": [
              "3"
            ]
          },
          "metadata": {},
          "execution_count": 6
        }
      ]
    },
    {
      "cell_type": "code",
      "source": [
        "# Adding elements in tuple #raises error\n",
        "\n",
        "tuple2 = (2, 3, 4, 5, 6, 7, )\n",
        "\n",
        "tuple2[1] = 2"
      ],
      "metadata": {
        "colab": {
          "base_uri": "https://localhost:8080/",
          "height": 201
        },
        "id": "n9W1G5pu-Byl",
        "outputId": "ca8d1756-845e-43eb-d1be-3037175fdb99"
      },
      "execution_count": 7,
      "outputs": [
        {
          "output_type": "error",
          "ename": "TypeError",
          "evalue": "ignored",
          "traceback": [
            "\u001b[0;31m---------------------------------------------------------------------------\u001b[0m",
            "\u001b[0;31mTypeError\u001b[0m                                 Traceback (most recent call last)",
            "\u001b[0;32m<ipython-input-7-f749313ad86f>\u001b[0m in \u001b[0;36m<module>\u001b[0;34m\u001b[0m\n\u001b[1;32m      3\u001b[0m \u001b[0mtuple2\u001b[0m \u001b[0;34m=\u001b[0m \u001b[0;34m(\u001b[0m\u001b[0;36m2\u001b[0m\u001b[0;34m,\u001b[0m \u001b[0;36m3\u001b[0m\u001b[0;34m,\u001b[0m \u001b[0;36m4\u001b[0m\u001b[0;34m,\u001b[0m \u001b[0;36m5\u001b[0m\u001b[0;34m,\u001b[0m \u001b[0;36m6\u001b[0m\u001b[0;34m,\u001b[0m \u001b[0;36m7\u001b[0m\u001b[0;34m,\u001b[0m \u001b[0;34m)\u001b[0m\u001b[0;34m\u001b[0m\u001b[0;34m\u001b[0m\u001b[0m\n\u001b[1;32m      4\u001b[0m \u001b[0;34m\u001b[0m\u001b[0m\n\u001b[0;32m----> 5\u001b[0;31m \u001b[0mtuple2\u001b[0m\u001b[0;34m[\u001b[0m\u001b[0;36m1\u001b[0m\u001b[0;34m]\u001b[0m \u001b[0;34m=\u001b[0m \u001b[0;36m2\u001b[0m\u001b[0;34m\u001b[0m\u001b[0;34m\u001b[0m\u001b[0m\n\u001b[0m",
            "\u001b[0;31mTypeError\u001b[0m: 'tuple' object does not support item assignment"
          ]
        }
      ]
    },
    {
      "cell_type": "code",
      "source": [
        "# Slicing in tuple\n",
        "tuple2 = (2, 3, 3, 4, 2, 4, 5, 6, 7, )\n",
        "\n",
        "tuple2[2:]"
      ],
      "metadata": {
        "colab": {
          "base_uri": "https://localhost:8080/"
        },
        "id": "5wLNtm8FC_Pb",
        "outputId": "ca013194-eefa-4c0f-963c-d543d58dbf5c"
      },
      "execution_count": 15,
      "outputs": [
        {
          "output_type": "execute_result",
          "data": {
            "text/plain": [
              "(3, 4, 2, 4, 5, 6, 7)"
            ]
          },
          "metadata": {},
          "execution_count": 15
        }
      ]
    },
    {
      "cell_type": "code",
      "source": [
        "# Methods of tuple\n",
        "\n",
        "tuple2.count(2)\n",
        "\n",
        "tuple2.index(4)"
      ],
      "metadata": {
        "colab": {
          "base_uri": "https://localhost:8080/"
        },
        "id": "NaVi1H5C-eOa",
        "outputId": "ae09cf8b-94b9-4071-b786-df211b2cf2c6"
      },
      "execution_count": 12,
      "outputs": [
        {
          "output_type": "execute_result",
          "data": {
            "text/plain": [
              "3"
            ]
          },
          "metadata": {},
          "execution_count": 12
        }
      ]
    },
    {
      "cell_type": "code",
      "source": [
        "# Use of tuple method while slicing the tuple\n",
        "tuple2[2:6].count(2)\n",
        "tuple2[2:6].index(2)"
      ],
      "metadata": {
        "colab": {
          "base_uri": "https://localhost:8080/"
        },
        "id": "va-fpBVND2In",
        "outputId": "cbd54ff0-f69f-4530-d42b-eb208156c926"
      },
      "execution_count": 18,
      "outputs": [
        {
          "output_type": "execute_result",
          "data": {
            "text/plain": [
              "2"
            ]
          },
          "metadata": {},
          "execution_count": 18
        }
      ]
    },
    {
      "cell_type": "code",
      "source": [
        "# Arithmetic operation on tuple\n",
        "\n",
        "tuple2 * 2\n",
        "# tuple2 + 2\n",
        "# tuple2 - 2\n",
        "# tuple2 / 2"
      ],
      "metadata": {
        "colab": {
          "base_uri": "https://localhost:8080/"
        },
        "id": "W-eDkW51-roL",
        "outputId": "fc39471e-9b9c-414d-f31a-df25d67b26da"
      },
      "execution_count": 23,
      "outputs": [
        {
          "output_type": "execute_result",
          "data": {
            "text/plain": [
              "(2, 3, 3, 4, 2, 4, 5, 6, 7, 2, 3, 3, 4, 2, 4, 5, 6, 7)"
            ]
          },
          "metadata": {},
          "execution_count": 23
        }
      ]
    },
    {
      "cell_type": "code",
      "source": [
        "# Data types in tuple\n",
        "\n",
        "# tuple1 = (\"apple\", \"banana\", \"cherry\")\n",
        "# tuple2 = (1, 5, 7, 9, 3)\n",
        "# tuple3 = (True, False, False)\n",
        "\n",
        "tuple1 = (\"abc\", 34, True, 40, \"male\")\n",
        "\n",
        "tuple1"
      ],
      "metadata": {
        "colab": {
          "base_uri": "https://localhost:8080/"
        },
        "id": "HttvLX8ZAJYW",
        "outputId": "ffbb25d0-ad37-454e-d9bd-c86e8ad593f0"
      },
      "execution_count": 30,
      "outputs": [
        {
          "output_type": "execute_result",
          "data": {
            "text/plain": [
              "('abc', 34, True, 40, 'male')"
            ]
          },
          "metadata": {},
          "execution_count": 30
        }
      ]
    }
  ],
  "metadata": {
    "colab": {
      "provenance": []
    },
    "kernelspec": {
      "display_name": "Python 3",
      "name": "python3"
    }
  },
  "nbformat": 4,
  "nbformat_minor": 0
}